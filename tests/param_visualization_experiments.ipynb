{
 "cells": [
  {
   "cell_type": "code",
   "execution_count": 184,
   "metadata": {},
   "outputs": [],
   "source": [
    "import os\n",
    "import numpy as np\n",
    "import matplotlib.pyplot as plt\n",
    "from flax.traverse_util import flatten_dict\n",
    "from flax.core import frozen_dict\n",
    "from brax.io import model\n",
    "from brax.training.acme.running_statistics import RunningStatisticsState\n"
   ]
  },
  {
   "cell_type": "code",
   "execution_count": 185,
   "metadata": {},
   "outputs": [],
   "source": [
    "def load_policy_params(param_path):\n",
    "    \"\"\"\n",
    "    Load Brax parameters, automatically extract and return policy network weights (FrozenDict) for visualization.\n",
    "    \"\"\"\n",
    "    raw = model.load_params(param_path)\n",
    "\n",
    "    # If it's already a FrozenDict, return it directly\n",
    "    if isinstance(raw, frozen_dict.FrozenDict):\n",
    "        print(\"Detected FrozenDict.\")\n",
    "        return raw\n",
    "\n",
    "    # If it's a plain dict, try to wrap it\n",
    "    if isinstance(raw, dict):\n",
    "        print(\"Detected plain dict, wrapping as FrozenDict.\")\n",
    "        return frozen_dict.freeze(raw)\n",
    "\n",
    "    # If it's a tuple, try to find the valid weight part\n",
    "    if isinstance(raw, tuple):\n",
    "        print(\"Detected tuple, searching for valid weight params...\")\n",
    "        for i, part in enumerate(raw):\n",
    "            if isinstance(part, frozen_dict.FrozenDict):\n",
    "                print(f\"Found FrozenDict at index {i}\")\n",
    "                return part\n",
    "            elif isinstance(part, dict):\n",
    "                print(f\"Found dict at index {i}, attempting wrap...\")\n",
    "                return frozen_dict.freeze(part)\n",
    "            elif isinstance(part, RunningStatisticsState):\n",
    "                print(f\"Skipping normalizer state at index {i}\")\n",
    "        raise ValueError(\"No valid network parameters found for visualization\")\n",
    "    \n",
    "    raise TypeError(f\"Unrecognized parameter type: {type(raw)}\")\n"
   ]
  },
  {
   "cell_type": "code",
   "execution_count": 186,
   "metadata": {},
   "outputs": [],
   "source": [
    "def visualize_weight_heatmaps(params, output_dir='viz_params', max_layers=20, cmap='coolwarm'):\n",
    "    \"\"\"\n",
    "    Visualize Flax or dict weight parameters (2D only), with a fixed color scale (-1 to 1).\n",
    "    Each layer is saved as an individual heatmap PNG.\n",
    "    \"\"\"\n",
    "    import os\n",
    "    import numpy as np\n",
    "    import matplotlib.pyplot as plt\n",
    "    from flax.traverse_util import flatten_dict\n",
    "    from flax.core import frozen_dict\n",
    "\n",
    "    os.makedirs(output_dir, exist_ok=True)\n",
    "\n",
    "    if isinstance(params, dict):\n",
    "        print(\"Wrapping dict as FrozenDict...\")\n",
    "        params = frozen_dict.freeze(params)\n",
    "\n",
    "    assert hasattr(params, 'keys'), f\"Invalid parameter type: {type(params)}\"\n",
    "\n",
    "    flat_params = flatten_dict(params, sep='/')\n",
    "    count = 0\n",
    "    vmin, vmax = -1.0, 1.0\n",
    "\n",
    "    for name, value in flat_params.items():\n",
    "        val_np = np.array(value)\n",
    "        if val_np.ndim == 2:\n",
    "            plt.figure(figsize=(6, 4))\n",
    "            plt.imshow(val_np, aspect='auto', cmap=cmap, vmin=vmin, vmax=vmax)\n",
    "            plt.colorbar(label='Weight Value')\n",
    "            plt.title(f'Layer: {name}')\n",
    "            plt.xlabel('Output Dim')\n",
    "            plt.ylabel('Input Dim')\n",
    "            plt.tight_layout()\n",
    "\n",
    "            filename = name.replace('/', '_') + '.png'\n",
    "            filepath = os.path.join(output_dir, filename)\n",
    "            plt.savefig(filepath)\n",
    "            plt.close()\n",
    "\n",
    "            print(f\"Saved heatmap: {filepath}\")\n",
    "            count += 1\n",
    "            if count >= max_layers:\n",
    "                break\n"
   ]
  },
  {
   "cell_type": "code",
   "execution_count": 187,
   "metadata": {},
   "outputs": [],
   "source": [
    "def plot_summary_heatmap(params, output_path='summary_heatmap.png', cmap='coolwarm', max_layers=50, scale=2.0):\n",
    "    \"\"\"\n",
    "    Generate a high-resolution summary heatmap image of all 2D weight matrices in the model.\n",
    "    Each matrix's display size reflects its actual dimensions.\n",
    "    Color scale is fixed to [-1, 1] for comparability.\n",
    "    \"\"\"\n",
    "    import os\n",
    "    import numpy as np\n",
    "    import matplotlib.pyplot as plt\n",
    "    from flax.traverse_util import flatten_dict\n",
    "    from flax.core import frozen_dict\n",
    "\n",
    "    if isinstance(params, dict):\n",
    "        print(\"Wrapping dict as FrozenDict...\")\n",
    "        params = frozen_dict.freeze(params)\n",
    "\n",
    "    flat_params = flatten_dict(params, sep='/')\n",
    "    heatmaps = []\n",
    "    labels = []\n",
    "    shapes = []\n",
    "\n",
    "    count = 0\n",
    "    for name, value in flat_params.items():\n",
    "        val_np = np.array(value)\n",
    "        if val_np.ndim == 2:\n",
    "            heatmaps.append(val_np)\n",
    "            labels.append(f\"{name} {val_np.shape}\")\n",
    "            shapes.append(val_np.shape)\n",
    "            count += 1\n",
    "            if count >= max_layers:\n",
    "                break\n",
    "\n",
    "    if not heatmaps:\n",
    "        print(\"No 2D parameters found for summary heatmap.\")\n",
    "        return\n",
    "\n",
    "    # Fixed global color scale for comparability\n",
    "    vmin, vmax = -1.0, 1.0\n",
    "\n",
    "    # Set resolution\n",
    "    dpi = 100\n",
    "    max_width = max(w for _, w in shapes)\n",
    "    total_height = sum(h for h, _ in shapes)\n",
    "\n",
    "    fig_width = max_width * scale / dpi\n",
    "    fig_height = total_height * scale / dpi\n",
    "    fig = plt.figure(figsize=(fig_width, fig_height), dpi=dpi)\n",
    "\n",
    "    current_y = 1.0\n",
    "    for mat, label, (h, w) in zip(heatmaps, labels, shapes):\n",
    "        rel_height = h / total_height\n",
    "        ax = fig.add_axes([0.0, current_y - rel_height, 1.0, rel_height])\n",
    "        ax.imshow(mat, aspect='auto', cmap=cmap, vmin=vmin, vmax=vmax)\n",
    "        ax.set_title(label, fontsize=9 * scale)\n",
    "        ax.axis('off')\n",
    "        current_y -= rel_height\n",
    "\n",
    "    fig.savefig(output_path, dpi=dpi, bbox_inches='tight')\n",
    "    plt.close(fig)\n",
    "    print(f\"Saved high-res summary heatmap: {output_path}\")\n"
   ]
  },
  {
   "cell_type": "code",
   "execution_count": 188,
   "metadata": {},
   "outputs": [
    {
     "name": "stdout",
     "output_type": "stream",
     "text": [
      "Loaded type: <class 'tuple'>\n",
      "Tuple length: 3\n",
      " - Index 0: type=<class 'brax.training.acme.running_statistics.RunningStatisticsState'>\n",
      " - Index 1: type=<class 'dict'>\n",
      " - Index 2: type=<class 'dict'>\n"
     ]
    }
   ],
   "source": [
    "from brax.io import model\n",
    "\n",
    "raw = model.load_params('./params_good')\n",
    "print(\"Loaded type:\", type(raw))\n",
    "\n",
    "if isinstance(raw, tuple):\n",
    "    print(\"Tuple length:\", len(raw))\n",
    "    for i, part in enumerate(raw):\n",
    "        print(f\" - Index {i}: type={type(part)}\")\n"
   ]
  },
  {
   "cell_type": "code",
   "execution_count": 189,
   "metadata": {},
   "outputs": [
    {
     "name": "stdout",
     "output_type": "stream",
     "text": [
      "index 1 type: <class 'dict'>\n",
      "Top-level keys: ['params']\n",
      "\n",
      "Key: params\n",
      "  Type: <class 'dict'>\n",
      "  Subkeys: ['hidden_0', 'hidden_1', 'hidden_2', 'hidden_3', 'hidden_4']\n"
     ]
    }
   ],
   "source": [
    "\n",
    "\n",
    "params = model.load_params(\"params_good\")\n",
    "index1 = params[1]\n",
    "\n",
    "print(\"index 1 type:\", type(index1))\n",
    "print(\"Top-level keys:\", list(index1.keys()))\n",
    "\n",
    "for key, value in index1.items():\n",
    "    print(f\"\\nKey: {key}\")\n",
    "    print(\"  Type:\", type(value))\n",
    "    if hasattr(value, 'keys'):\n",
    "        print(\"  Subkeys:\", list(value.keys()))\n",
    "    else:\n",
    "        print(\"  Content:\", str(value)[:300])  # Only show first 300 characters to avoid too long output\n"
   ]
  },
  {
   "cell_type": "code",
   "execution_count": 190,
   "metadata": {},
   "outputs": [
    {
     "name": "stdout",
     "output_type": "stream",
     "text": [
      "Detected tuple, searching for valid weight params...\n",
      "Skipping normalizer state at index 0\n",
      "Found dict at index 1, attempting wrap...\n",
      "Saved heatmap: viz_policy/params_hidden_0_kernel.png\n",
      "Saved heatmap: viz_policy/params_hidden_1_kernel.png\n",
      "Saved heatmap: viz_policy/params_hidden_2_kernel.png\n",
      "Saved heatmap: viz_policy/params_hidden_3_kernel.png\n",
      "Saved heatmap: viz_policy/params_hidden_4_kernel.png\n",
      "Saved high-res summary heatmap: viz_policy/summary.png\n"
     ]
    }
   ],
   "source": [
    "param_path = 'params_bad'  # Your parameter path\n",
    "params = load_policy_params(param_path)\n",
    "visualize_weight_heatmaps(params, output_dir=\"viz_policy\")\n",
    "plot_summary_heatmap(params, output_path='viz_policy/summary.png')"
   ]
  },
  {
   "cell_type": "code",
   "execution_count": null,
   "metadata": {},
   "outputs": [],
   "source": []
  }
 ],
 "metadata": {
  "kernelspec": {
   "display_name": "brax",
   "language": "python",
   "name": "python3"
  },
  "language_info": {
   "codemirror_mode": {
    "name": "ipython",
    "version": 3
   },
   "file_extension": ".py",
   "mimetype": "text/x-python",
   "name": "python",
   "nbconvert_exporter": "python",
   "pygments_lexer": "ipython3",
   "version": "3.10.18"
  }
 },
 "nbformat": 4,
 "nbformat_minor": 2
}
